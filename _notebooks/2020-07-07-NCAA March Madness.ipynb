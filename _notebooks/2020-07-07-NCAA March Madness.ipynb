{
 "cells": [
  {
   "cell_type": "markdown",
   "metadata": {},
   "source": [
    "# \"March Madness 2020\"\n",
    "> \"Predict the winner of the Mens NCAA March Madness Event\"\n",
    "- toc: false\n",
    "- branch: master\n",
    "- badges: true\n",
    "- comments: true\n",
    "- categories: [fastpages, jupyter]\n",
    "- image: images/some_folder/your_image.png\n",
    "- hide: false\n",
    "- search_exclude: true\n",
    "- metadata_key1: metadata_value1\n",
    "- metadata_key2: metadata_value2"
   ]
  },
  {
   "cell_type": "markdown",
   "metadata": {},
   "source": [
    "This tournament was cancelled due to COVID-19 so I have stopped development"
   ]
  },
  {
   "cell_type": "code",
   "execution_count": 105,
   "metadata": {},
   "outputs": [],
   "source": [
    "import pandas as pd\n",
    "import numpy as np\n",
    "import matplotlib.pyplot as plt\n",
    "import sklearn\n",
    "from sklearn.model_selection import train_test_split\n",
    "from sklearn.linear_model import LogisticRegression\n",
    "from sklearn.metrics import confusion_matrix"
   ]
  },
  {
   "cell_type": "code",
   "execution_count": 50,
   "metadata": {},
   "outputs": [],
   "source": [
    "sub = pd.read_csv('./MSampleSubmissionStage1_2020.csv')"
   ]
  },
  {
   "cell_type": "code",
   "execution_count": 51,
   "metadata": {},
   "outputs": [
    {
     "name": "stdout",
     "output_type": "stream",
     "text": [
      "<class 'pandas.core.frame.DataFrame'>\n",
      "RangeIndex: 11390 entries, 0 to 11389\n",
      "Data columns (total 2 columns):\n",
      "ID      11390 non-null object\n",
      "Pred    11390 non-null float64\n",
      "dtypes: float64(1), object(1)\n",
      "memory usage: 133.5+ KB\n"
     ]
    }
   ],
   "source": [
    "sub.info()"
   ]
  },
  {
   "cell_type": "code",
   "execution_count": 52,
   "metadata": {},
   "outputs": [],
   "source": [
    "sub['Season'] = sub['ID'].str[:4]\n",
    "sub['LowTeamID'] = sub['ID'].str[5:9]\n",
    "sub['HighTeamID'] = sub['ID'].str[10:]"
   ]
  },
  {
   "cell_type": "code",
   "execution_count": 53,
   "metadata": {},
   "outputs": [
    {
     "data": {
      "text/html": [
       "<div>\n",
       "<style scoped>\n",
       "    .dataframe tbody tr th:only-of-type {\n",
       "        vertical-align: middle;\n",
       "    }\n",
       "\n",
       "    .dataframe tbody tr th {\n",
       "        vertical-align: top;\n",
       "    }\n",
       "\n",
       "    .dataframe thead th {\n",
       "        text-align: right;\n",
       "    }\n",
       "</style>\n",
       "<table border=\"1\" class=\"dataframe\">\n",
       "  <thead>\n",
       "    <tr style=\"text-align: right;\">\n",
       "      <th></th>\n",
       "      <th>ID</th>\n",
       "      <th>Pred</th>\n",
       "      <th>Season</th>\n",
       "      <th>LowTeamID</th>\n",
       "      <th>HighTeamID</th>\n",
       "    </tr>\n",
       "  </thead>\n",
       "  <tbody>\n",
       "    <tr>\n",
       "      <th>0</th>\n",
       "      <td>2015_1107_1112</td>\n",
       "      <td>0.5</td>\n",
       "      <td>2015</td>\n",
       "      <td>1107</td>\n",
       "      <td>1112</td>\n",
       "    </tr>\n",
       "    <tr>\n",
       "      <th>1</th>\n",
       "      <td>2015_1107_1116</td>\n",
       "      <td>0.5</td>\n",
       "      <td>2015</td>\n",
       "      <td>1107</td>\n",
       "      <td>1116</td>\n",
       "    </tr>\n",
       "    <tr>\n",
       "      <th>2</th>\n",
       "      <td>2015_1107_1124</td>\n",
       "      <td>0.5</td>\n",
       "      <td>2015</td>\n",
       "      <td>1107</td>\n",
       "      <td>1124</td>\n",
       "    </tr>\n",
       "    <tr>\n",
       "      <th>3</th>\n",
       "      <td>2015_1107_1125</td>\n",
       "      <td>0.5</td>\n",
       "      <td>2015</td>\n",
       "      <td>1107</td>\n",
       "      <td>1125</td>\n",
       "    </tr>\n",
       "    <tr>\n",
       "      <th>4</th>\n",
       "      <td>2015_1107_1129</td>\n",
       "      <td>0.5</td>\n",
       "      <td>2015</td>\n",
       "      <td>1107</td>\n",
       "      <td>1129</td>\n",
       "    </tr>\n",
       "  </tbody>\n",
       "</table>\n",
       "</div>"
      ],
      "text/plain": [
       "               ID  Pred Season LowTeamID HighTeamID\n",
       "0  2015_1107_1112   0.5   2015      1107       1112\n",
       "1  2015_1107_1116   0.5   2015      1107       1116\n",
       "2  2015_1107_1124   0.5   2015      1107       1124\n",
       "3  2015_1107_1125   0.5   2015      1107       1125\n",
       "4  2015_1107_1129   0.5   2015      1107       1129"
      ]
     },
     "execution_count": 53,
     "metadata": {},
     "output_type": "execute_result"
    }
   ],
   "source": [
    "sub.head()"
   ]
  },
  {
   "cell_type": "markdown",
   "metadata": {},
   "source": [
    "## Regular Season Data"
   ]
  },
  {
   "cell_type": "code",
   "execution_count": 54,
   "metadata": {},
   "outputs": [],
   "source": [
    "RSR = pd.read_csv('./MRegularSeasonCompactResults.csv')"
   ]
  },
  {
   "cell_type": "code",
   "execution_count": 55,
   "metadata": {
    "scrolled": true
   },
   "outputs": [
    {
     "name": "stdout",
     "output_type": "stream",
     "text": [
      "<class 'pandas.core.frame.DataFrame'>\n",
      "RangeIndex: 161552 entries, 0 to 161551\n",
      "Data columns (total 8 columns):\n",
      "Season     161552 non-null int64\n",
      "DayNum     161552 non-null int64\n",
      "WTeamID    161552 non-null int64\n",
      "WScore     161552 non-null int64\n",
      "LTeamID    161552 non-null int64\n",
      "LScore     161552 non-null int64\n",
      "WLoc       161552 non-null object\n",
      "NumOT      161552 non-null int64\n",
      "dtypes: int64(7), object(1)\n",
      "memory usage: 9.2+ MB\n"
     ]
    }
   ],
   "source": [
    "RSR.info()"
   ]
  },
  {
   "cell_type": "code",
   "execution_count": 56,
   "metadata": {},
   "outputs": [],
   "source": [
    "RSR = RSR[RSR['Season']>=2015]"
   ]
  },
  {
   "cell_type": "code",
   "execution_count": 57,
   "metadata": {},
   "outputs": [
    {
     "name": "stdout",
     "output_type": "stream",
     "text": [
      "<class 'pandas.core.frame.DataFrame'>\n",
      "Int64Index: 26986 entries, 134566 to 161551\n",
      "Data columns (total 8 columns):\n",
      "Season     26986 non-null int64\n",
      "DayNum     26986 non-null int64\n",
      "WTeamID    26986 non-null int64\n",
      "WScore     26986 non-null int64\n",
      "LTeamID    26986 non-null int64\n",
      "LScore     26986 non-null int64\n",
      "WLoc       26986 non-null object\n",
      "NumOT      26986 non-null int64\n",
      "dtypes: int64(7), object(1)\n",
      "memory usage: 1.8+ MB\n"
     ]
    }
   ],
   "source": [
    "RSR.info()"
   ]
  },
  {
   "cell_type": "code",
   "execution_count": 58,
   "metadata": {},
   "outputs": [],
   "source": [
    "SeasonWins = RSR.groupby(['Season','WTeamID'],as_index=False)['DayNum'].count().rename(columns={'DayNum':'Wins'})\n",
    "SeasonLosses = RSR.groupby(['Season','LTeamID'],as_index=False)['DayNum'].count().rename(columns={'DayNum':'Losses'})"
   ]
  },
  {
   "cell_type": "code",
   "execution_count": 59,
   "metadata": {},
   "outputs": [
    {
     "data": {
      "text/html": [
       "<div>\n",
       "<style scoped>\n",
       "    .dataframe tbody tr th:only-of-type {\n",
       "        vertical-align: middle;\n",
       "    }\n",
       "\n",
       "    .dataframe tbody tr th {\n",
       "        vertical-align: top;\n",
       "    }\n",
       "\n",
       "    .dataframe thead th {\n",
       "        text-align: right;\n",
       "    }\n",
       "</style>\n",
       "<table border=\"1\" class=\"dataframe\">\n",
       "  <thead>\n",
       "    <tr style=\"text-align: right;\">\n",
       "      <th></th>\n",
       "      <th>Season</th>\n",
       "      <th>WTeamID</th>\n",
       "      <th>Wins</th>\n",
       "    </tr>\n",
       "  </thead>\n",
       "  <tbody>\n",
       "    <tr>\n",
       "      <th>0</th>\n",
       "      <td>2015</td>\n",
       "      <td>1101</td>\n",
       "      <td>7</td>\n",
       "    </tr>\n",
       "    <tr>\n",
       "      <th>1</th>\n",
       "      <td>2015</td>\n",
       "      <td>1102</td>\n",
       "      <td>12</td>\n",
       "    </tr>\n",
       "    <tr>\n",
       "      <th>2</th>\n",
       "      <td>2015</td>\n",
       "      <td>1103</td>\n",
       "      <td>20</td>\n",
       "    </tr>\n",
       "    <tr>\n",
       "      <th>3</th>\n",
       "      <td>2015</td>\n",
       "      <td>1104</td>\n",
       "      <td>17</td>\n",
       "    </tr>\n",
       "    <tr>\n",
       "      <th>4</th>\n",
       "      <td>2015</td>\n",
       "      <td>1105</td>\n",
       "      <td>8</td>\n",
       "    </tr>\n",
       "  </tbody>\n",
       "</table>\n",
       "</div>"
      ],
      "text/plain": [
       "   Season  WTeamID  Wins\n",
       "0    2015     1101     7\n",
       "1    2015     1102    12\n",
       "2    2015     1103    20\n",
       "3    2015     1104    17\n",
       "4    2015     1105     8"
      ]
     },
     "execution_count": 59,
     "metadata": {},
     "output_type": "execute_result"
    }
   ],
   "source": [
    "SeasonWins.head()"
   ]
  },
  {
   "cell_type": "code",
   "execution_count": 60,
   "metadata": {},
   "outputs": [
    {
     "data": {
      "text/html": [
       "<div>\n",
       "<style scoped>\n",
       "    .dataframe tbody tr th:only-of-type {\n",
       "        vertical-align: middle;\n",
       "    }\n",
       "\n",
       "    .dataframe tbody tr th {\n",
       "        vertical-align: top;\n",
       "    }\n",
       "\n",
       "    .dataframe thead th {\n",
       "        text-align: right;\n",
       "    }\n",
       "</style>\n",
       "<table border=\"1\" class=\"dataframe\">\n",
       "  <thead>\n",
       "    <tr style=\"text-align: right;\">\n",
       "      <th></th>\n",
       "      <th>Season</th>\n",
       "      <th>LTeamID</th>\n",
       "      <th>Losses</th>\n",
       "    </tr>\n",
       "  </thead>\n",
       "  <tbody>\n",
       "    <tr>\n",
       "      <th>0</th>\n",
       "      <td>2015</td>\n",
       "      <td>1101</td>\n",
       "      <td>21</td>\n",
       "    </tr>\n",
       "    <tr>\n",
       "      <th>1</th>\n",
       "      <td>2015</td>\n",
       "      <td>1102</td>\n",
       "      <td>17</td>\n",
       "    </tr>\n",
       "    <tr>\n",
       "      <th>2</th>\n",
       "      <td>2015</td>\n",
       "      <td>1103</td>\n",
       "      <td>14</td>\n",
       "    </tr>\n",
       "    <tr>\n",
       "      <th>3</th>\n",
       "      <td>2015</td>\n",
       "      <td>1104</td>\n",
       "      <td>14</td>\n",
       "    </tr>\n",
       "    <tr>\n",
       "      <th>4</th>\n",
       "      <td>2015</td>\n",
       "      <td>1105</td>\n",
       "      <td>20</td>\n",
       "    </tr>\n",
       "  </tbody>\n",
       "</table>\n",
       "</div>"
      ],
      "text/plain": [
       "   Season  LTeamID  Losses\n",
       "0    2015     1101      21\n",
       "1    2015     1102      17\n",
       "2    2015     1103      14\n",
       "3    2015     1104      14\n",
       "4    2015     1105      20"
      ]
     },
     "execution_count": 60,
     "metadata": {},
     "output_type": "execute_result"
    }
   ],
   "source": [
    "SeasonLosses.head()"
   ]
  },
  {
   "cell_type": "code",
   "execution_count": 61,
   "metadata": {},
   "outputs": [],
   "source": [
    "SeasonRecord = pd.merge(SeasonWins,SeasonLosses,left_on=['Season','WTeamID'],right_on=['Season','LTeamID'])"
   ]
  },
  {
   "cell_type": "code",
   "execution_count": 62,
   "metadata": {},
   "outputs": [
    {
     "data": {
      "text/html": [
       "<div>\n",
       "<style scoped>\n",
       "    .dataframe tbody tr th:only-of-type {\n",
       "        vertical-align: middle;\n",
       "    }\n",
       "\n",
       "    .dataframe tbody tr th {\n",
       "        vertical-align: top;\n",
       "    }\n",
       "\n",
       "    .dataframe thead th {\n",
       "        text-align: right;\n",
       "    }\n",
       "</style>\n",
       "<table border=\"1\" class=\"dataframe\">\n",
       "  <thead>\n",
       "    <tr style=\"text-align: right;\">\n",
       "      <th></th>\n",
       "      <th>Season</th>\n",
       "      <th>WTeamID</th>\n",
       "      <th>Wins</th>\n",
       "      <th>LTeamID</th>\n",
       "      <th>Losses</th>\n",
       "    </tr>\n",
       "  </thead>\n",
       "  <tbody>\n",
       "    <tr>\n",
       "      <th>0</th>\n",
       "      <td>2015</td>\n",
       "      <td>1101</td>\n",
       "      <td>7</td>\n",
       "      <td>1101</td>\n",
       "      <td>21</td>\n",
       "    </tr>\n",
       "    <tr>\n",
       "      <th>1</th>\n",
       "      <td>2015</td>\n",
       "      <td>1102</td>\n",
       "      <td>12</td>\n",
       "      <td>1102</td>\n",
       "      <td>17</td>\n",
       "    </tr>\n",
       "    <tr>\n",
       "      <th>2</th>\n",
       "      <td>2015</td>\n",
       "      <td>1103</td>\n",
       "      <td>20</td>\n",
       "      <td>1103</td>\n",
       "      <td>14</td>\n",
       "    </tr>\n",
       "    <tr>\n",
       "      <th>3</th>\n",
       "      <td>2015</td>\n",
       "      <td>1104</td>\n",
       "      <td>17</td>\n",
       "      <td>1104</td>\n",
       "      <td>14</td>\n",
       "    </tr>\n",
       "    <tr>\n",
       "      <th>4</th>\n",
       "      <td>2015</td>\n",
       "      <td>1105</td>\n",
       "      <td>8</td>\n",
       "      <td>1105</td>\n",
       "      <td>20</td>\n",
       "    </tr>\n",
       "  </tbody>\n",
       "</table>\n",
       "</div>"
      ],
      "text/plain": [
       "   Season  WTeamID  Wins  LTeamID  Losses\n",
       "0    2015     1101     7     1101      21\n",
       "1    2015     1102    12     1102      17\n",
       "2    2015     1103    20     1103      14\n",
       "3    2015     1104    17     1104      14\n",
       "4    2015     1105     8     1105      20"
      ]
     },
     "execution_count": 62,
     "metadata": {},
     "output_type": "execute_result"
    }
   ],
   "source": [
    "SeasonRecord.head()"
   ]
  },
  {
   "cell_type": "code",
   "execution_count": 63,
   "metadata": {},
   "outputs": [],
   "source": [
    "SeasonRecord['Pct'] = SeasonRecord['Wins']/(SeasonRecord['Wins']+SeasonRecord['Losses'])"
   ]
  },
  {
   "cell_type": "code",
   "execution_count": 64,
   "metadata": {},
   "outputs": [
    {
     "data": {
      "text/html": [
       "<div>\n",
       "<style scoped>\n",
       "    .dataframe tbody tr th:only-of-type {\n",
       "        vertical-align: middle;\n",
       "    }\n",
       "\n",
       "    .dataframe tbody tr th {\n",
       "        vertical-align: top;\n",
       "    }\n",
       "\n",
       "    .dataframe thead th {\n",
       "        text-align: right;\n",
       "    }\n",
       "</style>\n",
       "<table border=\"1\" class=\"dataframe\">\n",
       "  <thead>\n",
       "    <tr style=\"text-align: right;\">\n",
       "      <th></th>\n",
       "      <th>Season</th>\n",
       "      <th>WTeamID</th>\n",
       "      <th>Wins</th>\n",
       "      <th>LTeamID</th>\n",
       "      <th>Losses</th>\n",
       "      <th>Pct</th>\n",
       "    </tr>\n",
       "  </thead>\n",
       "  <tbody>\n",
       "    <tr>\n",
       "      <th>0</th>\n",
       "      <td>2015</td>\n",
       "      <td>1101</td>\n",
       "      <td>7</td>\n",
       "      <td>1101</td>\n",
       "      <td>21</td>\n",
       "      <td>0.250000</td>\n",
       "    </tr>\n",
       "    <tr>\n",
       "      <th>1</th>\n",
       "      <td>2015</td>\n",
       "      <td>1102</td>\n",
       "      <td>12</td>\n",
       "      <td>1102</td>\n",
       "      <td>17</td>\n",
       "      <td>0.413793</td>\n",
       "    </tr>\n",
       "    <tr>\n",
       "      <th>2</th>\n",
       "      <td>2015</td>\n",
       "      <td>1103</td>\n",
       "      <td>20</td>\n",
       "      <td>1103</td>\n",
       "      <td>14</td>\n",
       "      <td>0.588235</td>\n",
       "    </tr>\n",
       "    <tr>\n",
       "      <th>3</th>\n",
       "      <td>2015</td>\n",
       "      <td>1104</td>\n",
       "      <td>17</td>\n",
       "      <td>1104</td>\n",
       "      <td>14</td>\n",
       "      <td>0.548387</td>\n",
       "    </tr>\n",
       "    <tr>\n",
       "      <th>4</th>\n",
       "      <td>2015</td>\n",
       "      <td>1105</td>\n",
       "      <td>8</td>\n",
       "      <td>1105</td>\n",
       "      <td>20</td>\n",
       "      <td>0.285714</td>\n",
       "    </tr>\n",
       "  </tbody>\n",
       "</table>\n",
       "</div>"
      ],
      "text/plain": [
       "   Season  WTeamID  Wins  LTeamID  Losses       Pct\n",
       "0    2015     1101     7     1101      21  0.250000\n",
       "1    2015     1102    12     1102      17  0.413793\n",
       "2    2015     1103    20     1103      14  0.588235\n",
       "3    2015     1104    17     1104      14  0.548387\n",
       "4    2015     1105     8     1105      20  0.285714"
      ]
     },
     "execution_count": 64,
     "metadata": {},
     "output_type": "execute_result"
    }
   ],
   "source": [
    "SeasonRecord.head()"
   ]
  },
  {
   "cell_type": "markdown",
   "metadata": {},
   "source": [
    "## Post Season Data"
   ]
  },
  {
   "cell_type": "code",
   "execution_count": 65,
   "metadata": {},
   "outputs": [],
   "source": [
    "PSR = pd.read_csv('./MNCAATourneyCompactResults.csv')"
   ]
  },
  {
   "cell_type": "code",
   "execution_count": 66,
   "metadata": {},
   "outputs": [
    {
     "name": "stdout",
     "output_type": "stream",
     "text": [
      "<class 'pandas.core.frame.DataFrame'>\n",
      "RangeIndex: 2251 entries, 0 to 2250\n",
      "Data columns (total 8 columns):\n",
      "Season     2251 non-null int64\n",
      "DayNum     2251 non-null int64\n",
      "WTeamID    2251 non-null int64\n",
      "WScore     2251 non-null int64\n",
      "LTeamID    2251 non-null int64\n",
      "LScore     2251 non-null int64\n",
      "WLoc       2251 non-null object\n",
      "NumOT      2251 non-null int64\n",
      "dtypes: int64(7), object(1)\n",
      "memory usage: 131.9+ KB\n"
     ]
    }
   ],
   "source": [
    "PSR.info()"
   ]
  },
  {
   "cell_type": "code",
   "execution_count": 67,
   "metadata": {},
   "outputs": [
    {
     "data": {
      "text/html": [
       "<div>\n",
       "<style scoped>\n",
       "    .dataframe tbody tr th:only-of-type {\n",
       "        vertical-align: middle;\n",
       "    }\n",
       "\n",
       "    .dataframe tbody tr th {\n",
       "        vertical-align: top;\n",
       "    }\n",
       "\n",
       "    .dataframe thead th {\n",
       "        text-align: right;\n",
       "    }\n",
       "</style>\n",
       "<table border=\"1\" class=\"dataframe\">\n",
       "  <thead>\n",
       "    <tr style=\"text-align: right;\">\n",
       "      <th></th>\n",
       "      <th>Season</th>\n",
       "      <th>DayNum</th>\n",
       "      <th>WTeamID</th>\n",
       "      <th>WScore</th>\n",
       "      <th>LTeamID</th>\n",
       "      <th>LScore</th>\n",
       "      <th>WLoc</th>\n",
       "      <th>NumOT</th>\n",
       "    </tr>\n",
       "  </thead>\n",
       "  <tbody>\n",
       "    <tr>\n",
       "      <th>0</th>\n",
       "      <td>1985</td>\n",
       "      <td>136</td>\n",
       "      <td>1116</td>\n",
       "      <td>63</td>\n",
       "      <td>1234</td>\n",
       "      <td>54</td>\n",
       "      <td>N</td>\n",
       "      <td>0</td>\n",
       "    </tr>\n",
       "    <tr>\n",
       "      <th>1</th>\n",
       "      <td>1985</td>\n",
       "      <td>136</td>\n",
       "      <td>1120</td>\n",
       "      <td>59</td>\n",
       "      <td>1345</td>\n",
       "      <td>58</td>\n",
       "      <td>N</td>\n",
       "      <td>0</td>\n",
       "    </tr>\n",
       "    <tr>\n",
       "      <th>2</th>\n",
       "      <td>1985</td>\n",
       "      <td>136</td>\n",
       "      <td>1207</td>\n",
       "      <td>68</td>\n",
       "      <td>1250</td>\n",
       "      <td>43</td>\n",
       "      <td>N</td>\n",
       "      <td>0</td>\n",
       "    </tr>\n",
       "    <tr>\n",
       "      <th>3</th>\n",
       "      <td>1985</td>\n",
       "      <td>136</td>\n",
       "      <td>1229</td>\n",
       "      <td>58</td>\n",
       "      <td>1425</td>\n",
       "      <td>55</td>\n",
       "      <td>N</td>\n",
       "      <td>0</td>\n",
       "    </tr>\n",
       "    <tr>\n",
       "      <th>4</th>\n",
       "      <td>1985</td>\n",
       "      <td>136</td>\n",
       "      <td>1242</td>\n",
       "      <td>49</td>\n",
       "      <td>1325</td>\n",
       "      <td>38</td>\n",
       "      <td>N</td>\n",
       "      <td>0</td>\n",
       "    </tr>\n",
       "  </tbody>\n",
       "</table>\n",
       "</div>"
      ],
      "text/plain": [
       "   Season  DayNum  WTeamID  WScore  LTeamID  LScore WLoc  NumOT\n",
       "0    1985     136     1116      63     1234      54    N      0\n",
       "1    1985     136     1120      59     1345      58    N      0\n",
       "2    1985     136     1207      68     1250      43    N      0\n",
       "3    1985     136     1229      58     1425      55    N      0\n",
       "4    1985     136     1242      49     1325      38    N      0"
      ]
     },
     "execution_count": 67,
     "metadata": {},
     "output_type": "execute_result"
    }
   ],
   "source": [
    "PSR.head()"
   ]
  },
  {
   "cell_type": "code",
   "execution_count": 68,
   "metadata": {},
   "outputs": [],
   "source": [
    "PSR = PSR[PSR['Season']>=2015]\n",
    "PSR['LowTeamID'] = np.where(PSR['LTeamID']<PSR['WTeamID'],PSR['LTeamID'],PSR['WTeamID'])\n",
    "PSR['HighTeamID'] = np.where(PSR['LTeamID']<PSR['WTeamID'],PSR['WTeamID'],PSR['LTeamID'])"
   ]
  },
  {
   "cell_type": "code",
   "execution_count": 69,
   "metadata": {},
   "outputs": [
    {
     "data": {
      "text/html": [
       "<div>\n",
       "<style scoped>\n",
       "    .dataframe tbody tr th:only-of-type {\n",
       "        vertical-align: middle;\n",
       "    }\n",
       "\n",
       "    .dataframe tbody tr th {\n",
       "        vertical-align: top;\n",
       "    }\n",
       "\n",
       "    .dataframe thead th {\n",
       "        text-align: right;\n",
       "    }\n",
       "</style>\n",
       "<table border=\"1\" class=\"dataframe\">\n",
       "  <thead>\n",
       "    <tr style=\"text-align: right;\">\n",
       "      <th></th>\n",
       "      <th>Season</th>\n",
       "      <th>DayNum</th>\n",
       "      <th>WTeamID</th>\n",
       "      <th>WScore</th>\n",
       "      <th>LTeamID</th>\n",
       "      <th>LScore</th>\n",
       "      <th>WLoc</th>\n",
       "      <th>NumOT</th>\n",
       "      <th>LowTeamID</th>\n",
       "      <th>HighTeamID</th>\n",
       "    </tr>\n",
       "  </thead>\n",
       "  <tbody>\n",
       "    <tr>\n",
       "      <th>1916</th>\n",
       "      <td>2015</td>\n",
       "      <td>134</td>\n",
       "      <td>1214</td>\n",
       "      <td>74</td>\n",
       "      <td>1264</td>\n",
       "      <td>64</td>\n",
       "      <td>N</td>\n",
       "      <td>0</td>\n",
       "      <td>1214</td>\n",
       "      <td>1264</td>\n",
       "    </tr>\n",
       "    <tr>\n",
       "      <th>1917</th>\n",
       "      <td>2015</td>\n",
       "      <td>134</td>\n",
       "      <td>1279</td>\n",
       "      <td>94</td>\n",
       "      <td>1140</td>\n",
       "      <td>90</td>\n",
       "      <td>N</td>\n",
       "      <td>0</td>\n",
       "      <td>1140</td>\n",
       "      <td>1279</td>\n",
       "    </tr>\n",
       "    <tr>\n",
       "      <th>1918</th>\n",
       "      <td>2015</td>\n",
       "      <td>135</td>\n",
       "      <td>1173</td>\n",
       "      <td>56</td>\n",
       "      <td>1129</td>\n",
       "      <td>55</td>\n",
       "      <td>N</td>\n",
       "      <td>0</td>\n",
       "      <td>1129</td>\n",
       "      <td>1173</td>\n",
       "    </tr>\n",
       "    <tr>\n",
       "      <th>1919</th>\n",
       "      <td>2015</td>\n",
       "      <td>135</td>\n",
       "      <td>1352</td>\n",
       "      <td>81</td>\n",
       "      <td>1316</td>\n",
       "      <td>77</td>\n",
       "      <td>N</td>\n",
       "      <td>0</td>\n",
       "      <td>1316</td>\n",
       "      <td>1352</td>\n",
       "    </tr>\n",
       "    <tr>\n",
       "      <th>1920</th>\n",
       "      <td>2015</td>\n",
       "      <td>136</td>\n",
       "      <td>1112</td>\n",
       "      <td>93</td>\n",
       "      <td>1411</td>\n",
       "      <td>72</td>\n",
       "      <td>N</td>\n",
       "      <td>0</td>\n",
       "      <td>1112</td>\n",
       "      <td>1411</td>\n",
       "    </tr>\n",
       "  </tbody>\n",
       "</table>\n",
       "</div>"
      ],
      "text/plain": [
       "      Season  DayNum  WTeamID  WScore  LTeamID  LScore WLoc  NumOT  LowTeamID  \\\n",
       "1916    2015     134     1214      74     1264      64    N      0       1214   \n",
       "1917    2015     134     1279      94     1140      90    N      0       1140   \n",
       "1918    2015     135     1173      56     1129      55    N      0       1129   \n",
       "1919    2015     135     1352      81     1316      77    N      0       1316   \n",
       "1920    2015     136     1112      93     1411      72    N      0       1112   \n",
       "\n",
       "      HighTeamID  \n",
       "1916        1264  \n",
       "1917        1279  \n",
       "1918        1173  \n",
       "1919        1352  \n",
       "1920        1411  "
      ]
     },
     "execution_count": 69,
     "metadata": {},
     "output_type": "execute_result"
    }
   ],
   "source": [
    "PSR.head()"
   ]
  },
  {
   "cell_type": "code",
   "execution_count": 70,
   "metadata": {},
   "outputs": [],
   "source": [
    "PSR['LowTeamWin'] = np.where(PSR['LowTeamID']==PSR['WTeamID'],1,0)"
   ]
  },
  {
   "cell_type": "code",
   "execution_count": 71,
   "metadata": {},
   "outputs": [
    {
     "data": {
      "text/html": [
       "<div>\n",
       "<style scoped>\n",
       "    .dataframe tbody tr th:only-of-type {\n",
       "        vertical-align: middle;\n",
       "    }\n",
       "\n",
       "    .dataframe tbody tr th {\n",
       "        vertical-align: top;\n",
       "    }\n",
       "\n",
       "    .dataframe thead th {\n",
       "        text-align: right;\n",
       "    }\n",
       "</style>\n",
       "<table border=\"1\" class=\"dataframe\">\n",
       "  <thead>\n",
       "    <tr style=\"text-align: right;\">\n",
       "      <th></th>\n",
       "      <th>Season</th>\n",
       "      <th>DayNum</th>\n",
       "      <th>WTeamID</th>\n",
       "      <th>WScore</th>\n",
       "      <th>LTeamID</th>\n",
       "      <th>LScore</th>\n",
       "      <th>WLoc</th>\n",
       "      <th>NumOT</th>\n",
       "      <th>LowTeamID</th>\n",
       "      <th>HighTeamID</th>\n",
       "      <th>LowTeamWin</th>\n",
       "    </tr>\n",
       "  </thead>\n",
       "  <tbody>\n",
       "    <tr>\n",
       "      <th>1916</th>\n",
       "      <td>2015</td>\n",
       "      <td>134</td>\n",
       "      <td>1214</td>\n",
       "      <td>74</td>\n",
       "      <td>1264</td>\n",
       "      <td>64</td>\n",
       "      <td>N</td>\n",
       "      <td>0</td>\n",
       "      <td>1214</td>\n",
       "      <td>1264</td>\n",
       "      <td>1</td>\n",
       "    </tr>\n",
       "    <tr>\n",
       "      <th>1917</th>\n",
       "      <td>2015</td>\n",
       "      <td>134</td>\n",
       "      <td>1279</td>\n",
       "      <td>94</td>\n",
       "      <td>1140</td>\n",
       "      <td>90</td>\n",
       "      <td>N</td>\n",
       "      <td>0</td>\n",
       "      <td>1140</td>\n",
       "      <td>1279</td>\n",
       "      <td>0</td>\n",
       "    </tr>\n",
       "    <tr>\n",
       "      <th>1918</th>\n",
       "      <td>2015</td>\n",
       "      <td>135</td>\n",
       "      <td>1173</td>\n",
       "      <td>56</td>\n",
       "      <td>1129</td>\n",
       "      <td>55</td>\n",
       "      <td>N</td>\n",
       "      <td>0</td>\n",
       "      <td>1129</td>\n",
       "      <td>1173</td>\n",
       "      <td>0</td>\n",
       "    </tr>\n",
       "    <tr>\n",
       "      <th>1919</th>\n",
       "      <td>2015</td>\n",
       "      <td>135</td>\n",
       "      <td>1352</td>\n",
       "      <td>81</td>\n",
       "      <td>1316</td>\n",
       "      <td>77</td>\n",
       "      <td>N</td>\n",
       "      <td>0</td>\n",
       "      <td>1316</td>\n",
       "      <td>1352</td>\n",
       "      <td>0</td>\n",
       "    </tr>\n",
       "    <tr>\n",
       "      <th>1920</th>\n",
       "      <td>2015</td>\n",
       "      <td>136</td>\n",
       "      <td>1112</td>\n",
       "      <td>93</td>\n",
       "      <td>1411</td>\n",
       "      <td>72</td>\n",
       "      <td>N</td>\n",
       "      <td>0</td>\n",
       "      <td>1112</td>\n",
       "      <td>1411</td>\n",
       "      <td>1</td>\n",
       "    </tr>\n",
       "  </tbody>\n",
       "</table>\n",
       "</div>"
      ],
      "text/plain": [
       "      Season  DayNum  WTeamID  WScore  LTeamID  LScore WLoc  NumOT  LowTeamID  \\\n",
       "1916    2015     134     1214      74     1264      64    N      0       1214   \n",
       "1917    2015     134     1279      94     1140      90    N      0       1140   \n",
       "1918    2015     135     1173      56     1129      55    N      0       1129   \n",
       "1919    2015     135     1352      81     1316      77    N      0       1316   \n",
       "1920    2015     136     1112      93     1411      72    N      0       1112   \n",
       "\n",
       "      HighTeamID  LowTeamWin  \n",
       "1916        1264           1  \n",
       "1917        1279           0  \n",
       "1918        1173           0  \n",
       "1919        1352           0  \n",
       "1920        1411           1  "
      ]
     },
     "execution_count": 71,
     "metadata": {},
     "output_type": "execute_result"
    }
   ],
   "source": [
    "PSR.head()"
   ]
  },
  {
   "cell_type": "markdown",
   "metadata": {},
   "source": [
    "## Features Data"
   ]
  },
  {
   "cell_type": "code",
   "execution_count": 72,
   "metadata": {},
   "outputs": [],
   "source": [
    "df = pd.DataFrame(PSR[['Season','LowTeamID','HighTeamID','LowTeamWin']])"
   ]
  },
  {
   "cell_type": "code",
   "execution_count": 73,
   "metadata": {},
   "outputs": [],
   "source": [
    "df = pd.merge(df,SeasonRecord[['Season','LTeamID','Pct']],how='left',left_on=['Season','LowTeamID'],right_on=['Season','LTeamID'])"
   ]
  },
  {
   "cell_type": "code",
   "execution_count": 74,
   "metadata": {},
   "outputs": [],
   "source": [
    "df = pd.merge(df,SeasonRecord[['Season','LTeamID','Pct']],how='left',left_on=['Season','HighTeamID'],right_on=['Season','LTeamID'],suffixes=('_low','_high'))"
   ]
  },
  {
   "cell_type": "code",
   "execution_count": 75,
   "metadata": {},
   "outputs": [
    {
     "name": "stdout",
     "output_type": "stream",
     "text": [
      "<class 'pandas.core.frame.DataFrame'>\n",
      "Int64Index: 335 entries, 0 to 334\n",
      "Data columns (total 8 columns):\n",
      "Season          335 non-null int64\n",
      "LowTeamID       335 non-null int64\n",
      "HighTeamID      335 non-null int64\n",
      "LowTeamWin      335 non-null int32\n",
      "LTeamID_low     332 non-null float64\n",
      "Pct_low         332 non-null float64\n",
      "LTeamID_high    333 non-null float64\n",
      "Pct_high        333 non-null float64\n",
      "dtypes: float64(4), int32(1), int64(3)\n",
      "memory usage: 22.2 KB\n"
     ]
    }
   ],
   "source": [
    "df.info()"
   ]
  },
  {
   "cell_type": "code",
   "execution_count": 76,
   "metadata": {},
   "outputs": [
    {
     "data": {
      "text/html": [
       "<div>\n",
       "<style scoped>\n",
       "    .dataframe tbody tr th:only-of-type {\n",
       "        vertical-align: middle;\n",
       "    }\n",
       "\n",
       "    .dataframe tbody tr th {\n",
       "        vertical-align: top;\n",
       "    }\n",
       "\n",
       "    .dataframe thead th {\n",
       "        text-align: right;\n",
       "    }\n",
       "</style>\n",
       "<table border=\"1\" class=\"dataframe\">\n",
       "  <thead>\n",
       "    <tr style=\"text-align: right;\">\n",
       "      <th></th>\n",
       "      <th>Season</th>\n",
       "      <th>LowTeamID</th>\n",
       "      <th>HighTeamID</th>\n",
       "      <th>LowTeamWin</th>\n",
       "      <th>LTeamID_low</th>\n",
       "      <th>Pct_low</th>\n",
       "      <th>LTeamID_high</th>\n",
       "      <th>Pct_high</th>\n",
       "    </tr>\n",
       "  </thead>\n",
       "  <tbody>\n",
       "    <tr>\n",
       "      <th>0</th>\n",
       "      <td>2015</td>\n",
       "      <td>1214</td>\n",
       "      <td>1264</td>\n",
       "      <td>1</td>\n",
       "      <td>1214.0</td>\n",
       "      <td>0.484848</td>\n",
       "      <td>1264.0</td>\n",
       "      <td>0.593750</td>\n",
       "    </tr>\n",
       "    <tr>\n",
       "      <th>1</th>\n",
       "      <td>2015</td>\n",
       "      <td>1140</td>\n",
       "      <td>1279</td>\n",
       "      <td>0</td>\n",
       "      <td>1140.0</td>\n",
       "      <td>0.718750</td>\n",
       "      <td>1279.0</td>\n",
       "      <td>0.625000</td>\n",
       "    </tr>\n",
       "    <tr>\n",
       "      <th>2</th>\n",
       "      <td>2015</td>\n",
       "      <td>1129</td>\n",
       "      <td>1173</td>\n",
       "      <td>0</td>\n",
       "      <td>1129.0</td>\n",
       "      <td>0.741935</td>\n",
       "      <td>1173.0</td>\n",
       "      <td>0.757576</td>\n",
       "    </tr>\n",
       "    <tr>\n",
       "      <th>3</th>\n",
       "      <td>2015</td>\n",
       "      <td>1316</td>\n",
       "      <td>1352</td>\n",
       "      <td>0</td>\n",
       "      <td>1316.0</td>\n",
       "      <td>0.645161</td>\n",
       "      <td>1352.0</td>\n",
       "      <td>0.575758</td>\n",
       "    </tr>\n",
       "    <tr>\n",
       "      <th>4</th>\n",
       "      <td>2015</td>\n",
       "      <td>1112</td>\n",
       "      <td>1411</td>\n",
       "      <td>1</td>\n",
       "      <td>1112.0</td>\n",
       "      <td>0.911765</td>\n",
       "      <td>1411.0</td>\n",
       "      <td>0.647059</td>\n",
       "    </tr>\n",
       "  </tbody>\n",
       "</table>\n",
       "</div>"
      ],
      "text/plain": [
       "   Season  LowTeamID  HighTeamID  LowTeamWin  LTeamID_low   Pct_low  \\\n",
       "0    2015       1214        1264           1       1214.0  0.484848   \n",
       "1    2015       1140        1279           0       1140.0  0.718750   \n",
       "2    2015       1129        1173           0       1129.0  0.741935   \n",
       "3    2015       1316        1352           0       1316.0  0.645161   \n",
       "4    2015       1112        1411           1       1112.0  0.911765   \n",
       "\n",
       "   LTeamID_high  Pct_high  \n",
       "0        1264.0  0.593750  \n",
       "1        1279.0  0.625000  \n",
       "2        1173.0  0.757576  \n",
       "3        1352.0  0.575758  \n",
       "4        1411.0  0.647059  "
      ]
     },
     "execution_count": 76,
     "metadata": {},
     "output_type": "execute_result"
    }
   ],
   "source": [
    "df.head()"
   ]
  },
  {
   "cell_type": "code",
   "execution_count": 83,
   "metadata": {},
   "outputs": [],
   "source": [
    "df['Pct_diff'] = df['Pct_low'] - df['Pct_high']\n",
    "df = df.dropna()"
   ]
  },
  {
   "cell_type": "markdown",
   "metadata": {},
   "source": [
    "## Model build"
   ]
  },
  {
   "cell_type": "code",
   "execution_count": 97,
   "metadata": {},
   "outputs": [],
   "source": [
    "x = df[['Pct_diff']]\n",
    "y = df['LowTeamWin']\n",
    "X_train, X_test, y_train, y_test = train_test_split(x,y,random_state=0)"
   ]
  },
  {
   "cell_type": "code",
   "execution_count": 98,
   "metadata": {},
   "outputs": [
    {
     "data": {
      "text/plain": [
       "0.5991902834008097"
      ]
     },
     "execution_count": 98,
     "metadata": {},
     "output_type": "execute_result"
    }
   ],
   "source": [
    "clf = LogisticRegression()\n",
    "clf.fit(X_train,y_train)\n",
    "clf.score(X_train,y_train)"
   ]
  },
  {
   "cell_type": "code",
   "execution_count": 99,
   "metadata": {},
   "outputs": [
    {
     "data": {
      "text/plain": [
       "0.6265060240963856"
      ]
     },
     "execution_count": 99,
     "metadata": {},
     "output_type": "execute_result"
    }
   ],
   "source": [
    "clf.score(X_test,y_test)"
   ]
  },
  {
   "cell_type": "code",
   "execution_count": 100,
   "metadata": {},
   "outputs": [
    {
     "data": {
      "text/plain": [
       "array([[2.331166]])"
      ]
     },
     "execution_count": 100,
     "metadata": {},
     "output_type": "execute_result"
    }
   ],
   "source": [
    "clf.coef_"
   ]
  },
  {
   "cell_type": "code",
   "execution_count": null,
   "metadata": {},
   "outputs": [],
   "source": []
  }
 ],
 "metadata": {
  "kernelspec": {
   "display_name": "Python 3",
   "language": "python",
   "name": "python3"
  },
  "language_info": {
   "codemirror_mode": {
    "name": "ipython",
    "version": 3
   },
   "file_extension": ".py",
   "mimetype": "text/x-python",
   "name": "python",
   "nbconvert_exporter": "python",
   "pygments_lexer": "ipython3",
   "version": "3.6.5"
  }
 },
 "nbformat": 4,
 "nbformat_minor": 2
}
